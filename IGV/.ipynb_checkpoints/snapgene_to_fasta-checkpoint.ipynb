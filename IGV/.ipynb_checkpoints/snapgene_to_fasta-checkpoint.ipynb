{
 "cells": [
  {
   "cell_type": "code",
   "execution_count": 10,
   "id": "531afb5a",
   "metadata": {},
   "outputs": [],
   "source": [
    "\n",
    "import os\n",
    "os.chdir(\"/Users/jyotiadala/Library/CloudStorage/OneDrive-SUNYUpstateMedicalUniversity/project/bruce_lab/project/rDNA/IGV/human/Human_hg38-rDNA_genome_v1.0_annotation\")\n",
    "\n"
   ]
  },
  {
   "cell_type": "code",
   "execution_count": 11,
   "id": "d0434549",
   "metadata": {},
   "outputs": [
    {
     "data": {
      "text/plain": [
       "'/Users/jyotiadala/Library/CloudStorage/OneDrive-SUNYUpstateMedicalUniversity/project/bruce_lab/project/rDNA/IGV/human/Human_hg38-rDNA_genome_v1.0_annotation'"
      ]
     },
     "execution_count": 11,
     "metadata": {},
     "output_type": "execute_result"
    }
   ],
   "source": [
    "pwd"
   ]
  },
  {
   "cell_type": "code",
   "execution_count": 12,
   "id": "aca97419",
   "metadata": {},
   "outputs": [
    {
     "name": "stdout",
     "output_type": "stream",
     "text": [
      "Conversion complete!\n"
     ]
    }
   ],
   "source": [
    "from Bio import SeqIO\n",
    "\n",
    "# Convert SnapGene (.dna) to FASTA\n",
    "input_file = \"Human_KY962518.1_Modified_Snapgene.dna\"\n",
    "output_file = \"output.fasta\"\n",
    "\n",
    "with open(output_file, \"w\") as fasta_out:\n",
    "    for record in SeqIO.parse(input_file, \"snapgene\"):\n",
    "        SeqIO.write(record, fasta_out, \"fasta\")\n",
    "\n",
    "print(\"Conversion complete!\")"
   ]
  },
  {
   "cell_type": "code",
   "execution_count": 3,
   "id": "c0cebcbc",
   "metadata": {},
   "outputs": [],
   "source": [
    "##need to repeat same for mouse \n",
    "import os\n",
    "os.chdir(\"/Users/jyotiadala/Library/CloudStorage/OneDrive-SUNYUpstateMedicalUniversity/project/bruce_lab/project/rDNA/IGV/mouse/Mouse_mm39-rDNA_genome_v1.0_annotation\")\n"
   ]
  },
  {
   "cell_type": "code",
   "execution_count": 4,
   "id": "1c7dd95d",
   "metadata": {},
   "outputs": [
    {
     "name": "stdout",
     "output_type": "stream",
     "text": [
      "Conversion complete!\n"
     ]
    }
   ],
   "source": [
    "from Bio import SeqIO\n",
    "\n",
    "# Convert SnapGene (.dna) to FASTA\n",
    "input_file = \"Mouse_BK000964.3_Modified_Snapgene.dna\"\n",
    "output_file = \"Mouse_BK000964.3_Modified_Snapgene.fasta\"\n",
    "\n",
    "with open(output_file, \"w\") as fasta_out:\n",
    "    for record in SeqIO.parse(input_file, \"snapgene\"):\n",
    "        SeqIO.write(record, fasta_out, \"fasta\")\n",
    "\n",
    "print(\"Conversion complete!\")"
   ]
  }
 ],
 "metadata": {
  "kernelspec": {
   "display_name": "Python 3 (ipykernel)",
   "language": "python",
   "name": "python3"
  },
  "language_info": {
   "codemirror_mode": {
    "name": "ipython",
    "version": 3
   },
   "file_extension": ".py",
   "mimetype": "text/x-python",
   "name": "python",
   "nbconvert_exporter": "python",
   "pygments_lexer": "ipython3",
   "version": "3.11.4"
  }
 },
 "nbformat": 4,
 "nbformat_minor": 5
}
